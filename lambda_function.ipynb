{
 "cells": [
  {
   "cell_type": "code",
   "execution_count": null,
   "metadata": {
    "collapsed": true
   },
   "outputs": [],
   "source": [
    "from __future__ import print_function\n",
    "\n",
    "import base64\n",
    "import json\n",
    "import boto3\n",
    "\n",
    "print('Loading function')\n",
    "\n",
    "def lambda_handler(event, context):\n",
    "    output = []\n",
    "\n",
    "    for record in event['records']:\n",
    "        \n",
    "        dict_data = base64.b64decode(record['data']).decode('utf-8').strip()\n",
    "        print(dict_data)\n",
    "        \n",
    "        comprehend = boto3.client(service_name='comprehend', region_name='eu-west-2')\n",
    "        sentiment_all = comprehend.detect_sentiment(Text=dict_data, LanguageCode='en')\n",
    "        sentiment = sentiment_all['Sentiment']\n",
    "        print(sentiment)\n",
    "        positive = sentiment_all['SentimentScore']['Positive']\n",
    "        negative = sentiment_all['SentimentScore']['Negative']\n",
    "        total = positive - negative\n",
    "        print(total)\n",
    "        \n",
    "        data_record = {\n",
    "            'message': dict_data,\n",
    "            'sentiment': sentiment,\n",
    "            'total': total\n",
    "        }\n",
    "        print(data_record)\n",
    "        \n",
    "        output_record = {\n",
    "            'recordId': record['recordId'],\n",
    "            'result': 'Ok',\n",
    "            'data': base64.b64encode(json.dumps(data_record).encode('utf-8')).decode('utf-8')\n",
    "        }\n",
    "        print(output_record)\n",
    "        \n",
    "        output.append(output_record)\n",
    "\n",
    "    print(output)\n",
    "    return {'records': output}"
   ]
  }
 ],
 "metadata": {
  "kernelspec": {
   "display_name": "Python 3",
   "language": "python",
   "name": "python3"
  },
  "language_info": {
   "codemirror_mode": {
    "name": "ipython",
    "version": 3
   },
   "file_extension": ".py",
   "mimetype": "text/x-python",
   "name": "python",
   "nbconvert_exporter": "python",
   "pygments_lexer": "ipython3",
   "version": "3.6.0"
  }
 },
 "nbformat": 4,
 "nbformat_minor": 2
}
